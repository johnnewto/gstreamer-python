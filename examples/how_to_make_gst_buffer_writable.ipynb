{
 "cells": [
  {
   "cell_type": "markdown",
   "metadata": {},
   "source": [
    "## How to make Gst.Buffer writable\n",
    "\n",
    "Explained: http://lifestyletransfer.com/how-to-make-gstreamer-buffer-writable-in-python/"
   ]
  },
  {
   "cell_type": "code",
   "execution_count": 1,
   "metadata": {
    "ExecuteTime": {
     "end_time": "2024-02-13T02:18:40.230740962Z",
     "start_time": "2024-02-13T02:18:40.212195448Z"
    }
   },
   "outputs": [],
   "source": [
    "import gi\n",
    "gi.require_version('Gst', '1.0')\n",
    "gi.require_version('GstBase', '1.0')\n",
    "from gi.repository import Gst, GObject, GstBase"
   ]
  },
  {
   "cell_type": "code",
   "execution_count": 2,
   "metadata": {
    "ExecuteTime": {
     "end_time": "2024-02-13T02:18:40.284879185Z",
     "start_time": "2024-02-13T02:18:40.223334359Z"
    }
   },
   "outputs": [
    {
     "data": {
      "text/plain": "[]"
     },
     "execution_count": 2,
     "metadata": {},
     "output_type": "execute_result"
    }
   ],
   "source": [
    "Gst.init(None)"
   ]
  },
  {
   "cell_type": "markdown",
   "metadata": {},
   "source": [
    "### Problem"
   ]
  },
  {
   "cell_type": "code",
   "execution_count": 3,
   "metadata": {
    "ExecuteTime": {
     "end_time": "2024-02-13T02:18:40.285336766Z",
     "start_time": "2024-02-13T02:18:40.284733014Z"
    }
   },
   "outputs": [],
   "source": [
    "buffer = Gst.Buffer.new_wrapped(b\"lifestyletransfer\")"
   ]
  },
  {
   "cell_type": "code",
   "execution_count": 4,
   "metadata": {
    "ExecuteTime": {
     "end_time": "2024-02-13T02:18:40.285637491Z",
     "start_time": "2024-02-13T02:18:40.284898342Z"
    }
   },
   "outputs": [],
   "source": [
    "ret, map_info = buffer.map(Gst.MapFlags.READ | Gst.MapFlags.WRITE)"
   ]
  },
  {
   "cell_type": "code",
   "execution_count": 5,
   "metadata": {
    "ExecuteTime": {
     "end_time": "2024-02-13T02:18:40.286208747Z",
     "start_time": "2024-02-13T02:18:40.284984480Z"
    }
   },
   "outputs": [
    {
     "data": {
      "text/plain": "b'lifestyletransfer'"
     },
     "execution_count": 5,
     "metadata": {},
     "output_type": "execute_result"
    }
   ],
   "source": [
    "map_info.data"
   ]
  },
  {
   "cell_type": "code",
   "execution_count": 6,
   "metadata": {
    "ExecuteTime": {
     "end_time": "2024-02-13T02:18:40.377541418Z",
     "start_time": "2024-02-13T02:18:40.285070968Z"
    }
   },
   "outputs": [
    {
     "ename": "TypeError",
     "evalue": "'bytes' object does not support item assignment",
     "output_type": "error",
     "traceback": [
      "\u001B[0;31m---------------------------------------------------------------------------\u001B[0m",
      "\u001B[0;31mTypeError\u001B[0m                                 Traceback (most recent call last)",
      "Cell \u001B[0;32mIn[6], line 1\u001B[0m\n\u001B[0;32m----> 1\u001B[0m \u001B[43mmap_info\u001B[49m\u001B[38;5;241;43m.\u001B[39;49m\u001B[43mdata\u001B[49m\u001B[43m[\u001B[49m\u001B[38;5;241;43m0\u001B[39;49m\u001B[43m]\u001B[49m \u001B[38;5;241m=\u001B[39m \u001B[38;5;124m\"\u001B[39m\u001B[38;5;124mL\u001B[39m\u001B[38;5;124m\"\u001B[39m\n",
      "\u001B[0;31mTypeError\u001B[0m: 'bytes' object does not support item assignment"
     ]
    }
   ],
   "source": [
    "map_info.data[0] = \"L\""
   ]
  },
  {
   "cell_type": "markdown",
   "metadata": {},
   "source": [
    "### Solution"
   ]
  },
  {
   "cell_type": "code",
   "execution_count": 7,
   "metadata": {
    "ExecuteTime": {
     "end_time": "2024-02-13T02:18:51.009395031Z",
     "start_time": "2024-02-13T02:18:50.998479929Z"
    }
   },
   "outputs": [],
   "source": [
    "from ctypes import *\n",
    "from contextlib import contextmanager"
   ]
  },
  {
   "cell_type": "code",
   "execution_count": 8,
   "metadata": {
    "ExecuteTime": {
     "end_time": "2024-02-13T02:18:52.637628257Z",
     "start_time": "2024-02-13T02:18:52.628059578Z"
    }
   },
   "outputs": [],
   "source": [
    "GST_PADDING = 4"
   ]
  },
  {
   "cell_type": "code",
   "execution_count": 9,
   "metadata": {
    "ExecuteTime": {
     "end_time": "2024-02-13T02:18:53.972532361Z",
     "start_time": "2024-02-13T02:18:53.962802501Z"
    }
   },
   "outputs": [],
   "source": [
    "libgst = CDLL(\"libgstreamer-1.0.so.0\")"
   ]
  },
  {
   "cell_type": "code",
   "execution_count": null,
   "metadata": {
    "ExecuteTime": {
     "start_time": "2024-02-13T02:18:40.413108882Z"
    }
   },
   "outputs": [],
   "source": [
    "class GstMapInfo(Structure):\n",
    "    _fields_ = [(\"memory\", c_void_p),        # GstMemory *memory\n",
    "                (\"flags\", c_int),            # GstMapFlags flags\n",
    "                (\"data\", POINTER(c_byte)),   # guint8 *data\n",
    "                (\"size\", c_size_t),          # gsize size\n",
    "                (\"maxsize\", c_size_t),       # gsize maxsize\n",
    "                (\"user_data\", c_void_p * 4), # gpointer user_data[4]\n",
    "                (\"_gst_reserved\", c_void_p * GST_PADDING)]"
   ]
  },
  {
   "cell_type": "code",
   "execution_count": null,
   "metadata": {
    "ExecuteTime": {
     "start_time": "2024-02-13T02:18:40.413179406Z"
    }
   },
   "outputs": [],
   "source": [
    "GST_MAP_INFO_POINTER = POINTER(GstMapInfo)"
   ]
  },
  {
   "cell_type": "code",
   "execution_count": null,
   "metadata": {
    "ExecuteTime": {
     "start_time": "2024-02-13T02:18:40.413229882Z"
    }
   },
   "outputs": [],
   "source": [
    "# gst_buffer_map\n",
    "libgst.gst_buffer_map.argtypes = [c_void_p, GST_MAP_INFO_POINTER, c_int]\n",
    "libgst.gst_buffer_map.restype = c_bool\n",
    "\n",
    "# gst_buffer_unmap\n",
    "libgst.gst_buffer_unmap.argtypes = [c_void_p, GST_MAP_INFO_POINTER]\n",
    "libgst.gst_buffer_unmap.restype = None\n",
    "\n",
    "# gst_mini_object_is_writable\n",
    "libgst.gst_mini_object_is_writable.argtypes = [c_void_p]\n",
    "libgst.gst_mini_object_is_writable.restype = c_bool"
   ]
  },
  {
   "cell_type": "code",
   "execution_count": null,
   "metadata": {
    "ExecuteTime": {
     "start_time": "2024-02-13T02:18:40.413281205Z"
    }
   },
   "outputs": [],
   "source": [
    "@contextmanager\n",
    "def map_gst_buffer(pbuffer, flags):\n",
    "    if pbuffer is None:\n",
    "        raiseTypeError(\"Cannot pass NULL to _map_gst_buffer\")\n",
    "\n",
    "    ptr = hash(pbuffer)\n",
    "    if flags & Gst.MapFlags.WRITE and libgst.gst_mini_object_is_writable(ptr) == 0:\n",
    "        raiseValueError(\"Writable array requested but buffer is not writeable\")\n",
    "\n",
    "    mapping = GstMapInfo()\n",
    "    success = libgst.gst_buffer_map(ptr, mapping, flags)\n",
    "\n",
    "    if not success:\n",
    "        raiseRuntimeError(\"Couldn't map buffer\")\n",
    "\n",
    "    try:\n",
    "        yield cast(mapping.data, POINTER(c_byte * mapping.size)).contents\n",
    "    finally:\n",
    "        libgst.gst_buffer_unmap(ptr, mapping)"
   ]
  },
  {
   "cell_type": "code",
   "execution_count": null,
   "metadata": {
    "ExecuteTime": {
     "start_time": "2024-02-13T02:18:40.413330065Z"
    }
   },
   "outputs": [],
   "source": [
    "buffer = Gst.Buffer.new_wrapped(b\"lifestyletransfer\")"
   ]
  },
  {
   "cell_type": "code",
   "execution_count": null,
   "metadata": {
    "ExecuteTime": {
     "end_time": "2024-02-13T02:18:40.414127173Z",
     "start_time": "2024-02-13T02:18:40.413482588Z"
    }
   },
   "outputs": [],
   "source": [
    "with map_gst_buffer(buffer, Gst.MapFlags.READ | Gst.MapFlags.WRITE) as mapped:\n",
    "    mapped[0] = ord('L')\n",
    "    mapped[4] = ord('S')\n",
    "    mapped[9] = ord('T')"
   ]
  },
  {
   "cell_type": "code",
   "execution_count": null,
   "metadata": {
    "ExecuteTime": {
     "start_time": "2024-02-13T02:18:40.413540402Z"
    }
   },
   "outputs": [],
   "source": [
    "ret, map_info = buffer.map(Gst.MapFlags.READ)\n",
    "print(map_info.data)"
   ]
  },
  {
   "cell_type": "code",
   "execution_count": null,
   "metadata": {
    "ExecuteTime": {
     "start_time": "2024-02-13T02:18:40.413591705Z"
    }
   },
   "outputs": [],
   "source": []
  }
 ],
 "metadata": {
  "kernelspec": {
   "display_name": "Python 3",
   "language": "python",
   "name": "python3"
  },
  "language_info": {
   "codemirror_mode": {
    "name": "ipython",
    "version": 3
   },
   "file_extension": ".py",
   "mimetype": "text/x-python",
   "name": "python",
   "nbconvert_exporter": "python",
   "pygments_lexer": "ipython3",
   "version": "3.6.9"
  }
 },
 "nbformat": 4,
 "nbformat_minor": 2
}
